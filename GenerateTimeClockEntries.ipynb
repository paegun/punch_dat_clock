{
 "cells": [
  {
   "cell_type": "markdown",
   "metadata": {},
   "source": [
    "# Generating Pseudo Time Clock Entries\n",
    "\n",
    "For the purpose of testing whether a company is complying with labor law,\n",
    "we do not first assume that employees are perfect automatons,\n",
    "but instead assume that employees are:\n",
    "1. Non-uniform with regard to being prompt, early, or late.\n",
    "2. Relatively normal with regard to precision being within two standard deviations of their promptness.\n",
    "3. Non-uniform with regard to sloppiness with regard to missing time clock entries.\n",
    "4. Miss time clock entries based on fatigue or other unexplained/random factors such as distraction or unnoticed machine miss read.\n",
    "\n",
    "The supporting structures and functions used to generate sets of time clock entries are not specifically special with regard to a generally simply United States labor law standard, but use these standards as well as a three-shift spread over the twenty-four hour day to be sufficiently complicated."
   ]
  },
  {
   "cell_type": "code",
   "execution_count": 1,
   "metadata": {},
   "outputs": [],
   "source": [
    "from enum import Enum\n",
    "\n",
    "class WorkShiftName(Enum):\n",
    "    graveyard = 0\n",
    "    day = 1\n",
    "    afternoon = 2\n",
    "    \n",
    "def work_shift_period(work_shift_name):\n",
    "    switcher = {\n",
    "        WorkShiftName.graveyard: (0, 8),\n",
    "        WorkShiftName.day: (8, 16),\n",
    "        WorkShiftName.afternoon: (16, 24)\n",
    "    }\n",
    "    \n",
    "    return switcher.get(work_shift_name)"
   ]
  },
  {
   "cell_type": "code",
   "execution_count": 2,
   "metadata": {},
   "outputs": [],
   "source": [
    "from enum import IntFlag\n",
    "\n",
    "class TimeClockPunchBehaviorFlags(IntFlag):\n",
    "    default = 0\n",
    "    \n",
    "    prompt = 1\n",
    "    early = 2\n",
    "    late = 4\n",
    "    \n",
    "    precise = 8\n",
    "    stddev1 = 16\n",
    "    stddev2 = 32\n",
    "    \n",
    "    slop0 = 256\n",
    "    slop1 = 512\n",
    "    slop2 = 1024\n",
    "    slop3 = 2048\n",
    "    slop4 = 4096\n",
    "    \n",
    "def time_clock_punch_behavior(time_clock_punch_behavior_flags):\n",
    "    flags = time_clock_punch_behavior_flags\n",
    "    \n",
    "    if 0 == (flags & TimeClockPunchBehaviorFlags.prompt or\n",
    "            flags & TimeClockPunchBehaviorFlags.early or\n",
    "            flags & TimeClockPunchBehaviorFlags.late):\n",
    "        flags = flags + TimeClockPunchBehaviorFlags.prompt\n",
    "\n",
    "    if 0 == (flags & TimeClockPunchBehaviorFlags.precise or\n",
    "            flags & TimeClockPunchBehaviorFlags.stddev1 or\n",
    "            flags & TimeClockPunchBehaviorFlags.stddev2):\n",
    "        flags = flags + TimeClockPunchBehaviorFlags.stddev1\n",
    "\n",
    "    if 0 == (flags & TimeClockPunchBehaviorFlags.slop0 or\n",
    "            flags & TimeClockPunchBehaviorFlags.slop1 or\n",
    "            flags & TimeClockPunchBehaviorFlags.slop2 or\n",
    "            flags & TimeClockPunchBehaviorFlags.slop3 or\n",
    "            flags & TimeClockPunchBehaviorFlags.slop4):\n",
    "        flags = flags + TimeClockPunchBehaviorFlags.slop1\n",
    "        \n",
    "    return flags"
   ]
  },
  {
   "cell_type": "code",
   "execution_count": 3,
   "metadata": {},
   "outputs": [],
   "source": [
    "import random\n",
    "\n",
    "class ShiftWorker:\n",
    "    def __init__(self, id, work_shift_name, punch_behavior):\n",
    "        self._id = id\n",
    "        self._shift_start, self._shift_end = work_shift_period(work_shift_name)\n",
    "        self._punch_behavior = punch_behavior\n",
    "        self._punches_to_date = 0.0\n",
    "        \n",
    "    def punch_offset(self):\n",
    "        offset = 0.0\n",
    "        \n",
    "        if self._punch_behavior & TimeClockPunchBehaviorFlags.precise:\n",
    "            offset = random.randrange(0.0, 1.0) / 60.0\n",
    "        if self._punch_behavior & TimeClockPunchBehaviorFlags.stddev1:\n",
    "            offset = random.randrange(0.0, 4.0) / 60.0\n",
    "        if self._punch_behavior & TimeClockPunchBehaviorFlags.stddev2:\n",
    "            offset = random.randrange(0.0, 9.0) / 60.0\n",
    "\n",
    "        if self._punch_behavior & TimeClockPunchBehaviorFlags.early:\n",
    "            return -1.0 * offset\n",
    "        if self._punch_behavior & TimeClockPunchBehaviorFlags.prompt:\n",
    "            return 1.0 * offset\n",
    "        if self._punch_behavior & TimeClockPunchBehaviorFlags.late:\n",
    "            return 2.0 * offset\n",
    "        \n",
    "        return 1.0 * offset\n",
    "        \n",
    "    def slop_offset(self):\n",
    "        if self._punch_behavior & TimeClockPunchBehaviorFlags.slop0:\n",
    "            return 0\n",
    "        if self._punch_behavior & TimeClockPunchBehaviorFlags.slop1:\n",
    "            return 1\n",
    "        if self._punch_behavior & TimeClockPunchBehaviorFlags.slop2:\n",
    "            return 2\n",
    "        if self._punch_behavior & TimeClockPunchBehaviorFlags.slop3:\n",
    "            return 3\n",
    "        if self._punch_behavior & TimeClockPunchBehaviorFlags.slop4:\n",
    "            return 4\n",
    "        return 0\n",
    "    \n",
    "    def punch_miss(self):\n",
    "        self.punch_inc()\n",
    "        slop = self.slop_offset()\n",
    "        # 1 in 100ish w/ fatigue (punches_to_date) and sloppiness (slop)\n",
    "        balls = 100 - self._punches_to_date - slop\n",
    "        ball = random.randrange(0, balls)\n",
    "        return 0 == ball\n",
    "    \n",
    "    def punch_inc(self):\n",
    "        self._punches_to_date = self._punches_to_date + 1\n",
    "\n",
    "    def punches(self):\n",
    "        out = []\n",
    "        \n",
    "        # clock in\n",
    "        if not self.punch_miss():\n",
    "            out.append((self._id, self._shift_start + self.punch_offset()))\n",
    "            \n",
    "        # 10m break\n",
    "        if not self.punch_miss():\n",
    "            out.append((self._id, self._shift_start + 3 + self.punch_offset()))\n",
    "        if not self.punch_miss():\n",
    "            out.append((self._id, self._shift_start + 3 + 10.0 / 60.0 + self.punch_offset()))\n",
    "\n",
    "        # 30m meal break\n",
    "        if not self.punch_miss():\n",
    "            out.append((self._id, self._shift_start + 5 + self.punch_offset()))\n",
    "        if not self.punch_miss():\n",
    "            out.append((self._id, self._shift_start + 5 + 10.0 / 60.0 + self.punch_offset()))\n",
    "\n",
    "        # clock out\n",
    "        if not self.punch_miss():\n",
    "            out.append((self._id, self._shift_end + self.punch_offset()))\n",
    "\n",
    "        return out"
   ]
  },
  {
   "cell_type": "code",
   "execution_count": 5,
   "metadata": {},
   "outputs": [
    {
     "name": "stdout",
     "output_type": "stream",
     "text": [
      "punches: 596 for 100 workers w/ 6 punches expected per shift\n"
     ]
    }
   ],
   "source": [
    "def work_shift(i):\n",
    "    # 2/10 graveyard\n",
    "    # 3/10 afternoon (aka swing)\n",
    "    # 5/10 day\n",
    "    part = i % 10\n",
    "    if part >= 0 and part < 2:\n",
    "        return WorkShiftName.graveyard\n",
    "    if part >= 2 and part < 7:\n",
    "        return WorkShiftName.day\n",
    "    return WorkShiftName.afternoon\n",
    "\n",
    "def worker_behavior(i):\n",
    "    return TimeClockPunchBehaviorFlags.early + TimeClockPunchBehaviorFlags.stddev2\n",
    "\n",
    "workers = [ShiftWorker(id, work_shift(id), worker_behavior(id)) for id in range(1, 101)]\n",
    "\n",
    "wpunches = (worker.punches() for worker in workers)\n",
    "flatten = lambda l: (item for sublist in l for item in sublist)\n",
    "punches = sorted(flatten(wpunches), key=lambda punch: punch[1])\n",
    "print(f\"punches: {len(punches)} for {len(workers)} workers w/ {6} punches expected per shift\")"
   ]
  },
  {
   "cell_type": "code",
   "execution_count": 6,
   "metadata": {},
   "outputs": [],
   "source": [
    "import csv\n",
    "\n",
    "with open('punches.csv', 'w') as csvfile:\n",
    "    writer = csv.writer(csvfile)\n",
    "    writer.writerow([\"id\", \"ts\"])\n",
    "    for punch in punches:\n",
    "        writer.writerow(punch)"
   ]
  },
  {
   "cell_type": "code",
   "execution_count": 7,
   "metadata": {},
   "outputs": [],
   "source": [
    "import numpy as np\n",
    "import pandas as pd\n",
    "\n",
    "df = pd.read_csv('punches.csv')"
   ]
  },
  {
   "cell_type": "code",
   "execution_count": 8,
   "metadata": {},
   "outputs": [],
   "source": [
    "df_by_id = df.groupby(\"id\")"
   ]
  },
  {
   "cell_type": "code",
   "execution_count": 16,
   "metadata": {},
   "outputs": [],
   "source": [
    "missing_punches = df_by_id.filter(lambda x: len(x) < 6)"
   ]
  },
  {
   "cell_type": "code",
   "execution_count": 17,
   "metadata": {},
   "outputs": [
    {
     "data": {
      "text/html": [
       "<div>\n",
       "<style scoped>\n",
       "    .dataframe tbody tr th:only-of-type {\n",
       "        vertical-align: middle;\n",
       "    }\n",
       "\n",
       "    .dataframe tbody tr th {\n",
       "        vertical-align: top;\n",
       "    }\n",
       "\n",
       "    .dataframe thead th {\n",
       "        text-align: right;\n",
       "    }\n",
       "</style>\n",
       "<table border=\"1\" class=\"dataframe\">\n",
       "  <thead>\n",
       "    <tr style=\"text-align: right;\">\n",
       "      <th></th>\n",
       "      <th>id</th>\n",
       "      <th>ts</th>\n",
       "    </tr>\n",
       "  </thead>\n",
       "  <tbody>\n",
       "    <tr>\n",
       "      <th>8</th>\n",
       "      <td>40</td>\n",
       "      <td>-0.066667</td>\n",
       "    </tr>\n",
       "    <tr>\n",
       "      <th>16</th>\n",
       "      <td>91</td>\n",
       "      <td>-0.016667</td>\n",
       "    </tr>\n",
       "    <tr>\n",
       "      <th>24</th>\n",
       "      <td>40</td>\n",
       "      <td>2.900000</td>\n",
       "    </tr>\n",
       "    <tr>\n",
       "      <th>38</th>\n",
       "      <td>91</td>\n",
       "      <td>3.000000</td>\n",
       "    </tr>\n",
       "    <tr>\n",
       "      <th>55</th>\n",
       "      <td>91</td>\n",
       "      <td>3.133333</td>\n",
       "    </tr>\n",
       "    <tr>\n",
       "      <th>57</th>\n",
       "      <td>40</td>\n",
       "      <td>3.166667</td>\n",
       "    </tr>\n",
       "    <tr>\n",
       "      <th>67</th>\n",
       "      <td>40</td>\n",
       "      <td>4.916667</td>\n",
       "    </tr>\n",
       "    <tr>\n",
       "      <th>76</th>\n",
       "      <td>91</td>\n",
       "      <td>4.983333</td>\n",
       "    </tr>\n",
       "    <tr>\n",
       "      <th>89</th>\n",
       "      <td>91</td>\n",
       "      <td>5.100000</td>\n",
       "    </tr>\n",
       "    <tr>\n",
       "      <th>95</th>\n",
       "      <td>40</td>\n",
       "      <td>5.133333</td>\n",
       "    </tr>\n",
       "    <tr>\n",
       "      <th>377</th>\n",
       "      <td>89</td>\n",
       "      <td>15.866667</td>\n",
       "    </tr>\n",
       "    <tr>\n",
       "      <th>435</th>\n",
       "      <td>17</td>\n",
       "      <td>16.000000</td>\n",
       "    </tr>\n",
       "    <tr>\n",
       "      <th>456</th>\n",
       "      <td>89</td>\n",
       "      <td>18.900000</td>\n",
       "    </tr>\n",
       "    <tr>\n",
       "      <th>477</th>\n",
       "      <td>17</td>\n",
       "      <td>19.033333</td>\n",
       "    </tr>\n",
       "    <tr>\n",
       "      <th>498</th>\n",
       "      <td>89</td>\n",
       "      <td>19.100000</td>\n",
       "    </tr>\n",
       "    <tr>\n",
       "      <th>521</th>\n",
       "      <td>17</td>\n",
       "      <td>20.916667</td>\n",
       "    </tr>\n",
       "    <tr>\n",
       "      <th>546</th>\n",
       "      <td>17</td>\n",
       "      <td>21.083333</td>\n",
       "    </tr>\n",
       "    <tr>\n",
       "      <th>555</th>\n",
       "      <td>89</td>\n",
       "      <td>21.133333</td>\n",
       "    </tr>\n",
       "    <tr>\n",
       "      <th>579</th>\n",
       "      <td>17</td>\n",
       "      <td>23.916667</td>\n",
       "    </tr>\n",
       "    <tr>\n",
       "      <th>595</th>\n",
       "      <td>89</td>\n",
       "      <td>24.000000</td>\n",
       "    </tr>\n",
       "  </tbody>\n",
       "</table>\n",
       "</div>"
      ],
      "text/plain": [
       "     id         ts\n",
       "8    40  -0.066667\n",
       "16   91  -0.016667\n",
       "24   40   2.900000\n",
       "38   91   3.000000\n",
       "55   91   3.133333\n",
       "57   40   3.166667\n",
       "67   40   4.916667\n",
       "76   91   4.983333\n",
       "89   91   5.100000\n",
       "95   40   5.133333\n",
       "377  89  15.866667\n",
       "435  17  16.000000\n",
       "456  89  18.900000\n",
       "477  17  19.033333\n",
       "498  89  19.100000\n",
       "521  17  20.916667\n",
       "546  17  21.083333\n",
       "555  89  21.133333\n",
       "579  17  23.916667\n",
       "595  89  24.000000"
      ]
     },
     "execution_count": 17,
     "metadata": {},
     "output_type": "execute_result"
    }
   ],
   "source": [
    "missing_punches"
   ]
  },
  {
   "cell_type": "code",
   "execution_count": 23,
   "metadata": {},
   "outputs": [
    {
     "data": {
      "text/plain": [
       "[17, 40, 89, 91]"
      ]
     },
     "execution_count": 23,
     "metadata": {},
     "output_type": "execute_result"
    }
   ],
   "source": [
    "[id for id, _ in missing_punches.groupby(\"id\")]"
   ]
  },
  {
   "cell_type": "code",
   "execution_count": 33,
   "metadata": {},
   "outputs": [
    {
     "data": {
      "text/plain": [
       "['b_or_e', 'b_or_e', 'm', 'b_or_e']"
      ]
     },
     "execution_count": 33,
     "metadata": {},
     "output_type": "execute_result"
    }
   ],
   "source": [
    "def missing_punch_type(ts):\n",
    "    if ts[-1] - ts[0] < 8.0:\n",
    "        return \"b_or_e\"\n",
    "    return \"m\"\n",
    "\n",
    "[missing_punch_type(list(s[\"ts\"])) for _id, s in missing_punches.groupby(\"id\")]"
   ]
  },
  {
   "cell_type": "code",
   "execution_count": 73,
   "metadata": {},
   "outputs": [
    {
     "data": {
      "text/plain": [
       "[(17, 'b_or_e'), (40, 'b_or_e'), (89, 'm'), (91, 'b_or_e')]"
      ]
     },
     "execution_count": 73,
     "metadata": {},
     "output_type": "execute_result"
    }
   ],
   "source": [
    "[(id, missing_punch_type(list(ts[\"ts\"]))) for id, ts in missing_punches.groupby(\"id\")]"
   ]
  },
  {
   "cell_type": "code",
   "execution_count": 74,
   "metadata": {},
   "outputs": [
    {
     "data": {
      "text/html": [
       "<div>\n",
       "<style scoped>\n",
       "    .dataframe tbody tr th:only-of-type {\n",
       "        vertical-align: middle;\n",
       "    }\n",
       "\n",
       "    .dataframe tbody tr th {\n",
       "        vertical-align: top;\n",
       "    }\n",
       "\n",
       "    .dataframe thead th {\n",
       "        text-align: right;\n",
       "    }\n",
       "</style>\n",
       "<table border=\"1\" class=\"dataframe\">\n",
       "  <thead>\n",
       "    <tr style=\"text-align: right;\">\n",
       "      <th></th>\n",
       "      <th>id</th>\n",
       "      <th>ts</th>\n",
       "    </tr>\n",
       "  </thead>\n",
       "  <tbody>\n",
       "    <tr>\n",
       "      <th>377</th>\n",
       "      <td>89</td>\n",
       "      <td>15.866667</td>\n",
       "    </tr>\n",
       "    <tr>\n",
       "      <th>456</th>\n",
       "      <td>89</td>\n",
       "      <td>18.900000</td>\n",
       "    </tr>\n",
       "    <tr>\n",
       "      <th>498</th>\n",
       "      <td>89</td>\n",
       "      <td>19.100000</td>\n",
       "    </tr>\n",
       "    <tr>\n",
       "      <th>555</th>\n",
       "      <td>89</td>\n",
       "      <td>21.133333</td>\n",
       "    </tr>\n",
       "    <tr>\n",
       "      <th>595</th>\n",
       "      <td>89</td>\n",
       "      <td>24.000000</td>\n",
       "    </tr>\n",
       "  </tbody>\n",
       "</table>\n",
       "</div>"
      ],
      "text/plain": [
       "     id         ts\n",
       "377  89  15.866667\n",
       "456  89  18.900000\n",
       "498  89  19.100000\n",
       "555  89  21.133333\n",
       "595  89  24.000000"
      ]
     },
     "execution_count": 74,
     "metadata": {},
     "output_type": "execute_result"
    }
   ],
   "source": [
    "# since employee id 89 is missing some middle punches, ie breaks, let's hone in on them\n",
    "missing_punches.groupby(\"id\").filter(lambda g: g[\"id\"].min() == 89)"
   ]
  }
 ],
 "metadata": {
  "kernelspec": {
   "display_name": "Python 3",
   "language": "python",
   "name": "python3"
  },
  "language_info": {
   "codemirror_mode": {
    "name": "ipython",
    "version": 3
   },
   "file_extension": ".py",
   "mimetype": "text/x-python",
   "name": "python",
   "nbconvert_exporter": "python",
   "pygments_lexer": "ipython3",
   "version": "3.6.4"
  }
 },
 "nbformat": 4,
 "nbformat_minor": 2
}
