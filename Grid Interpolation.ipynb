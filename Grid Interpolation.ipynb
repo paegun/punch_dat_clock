{
 "cells": [
  {
   "cell_type": "code",
   "execution_count": 79,
   "metadata": {},
   "outputs": [],
   "source": [
    "def grid_cell_interpolate(grid, row, col, height, width):\n",
    "    if grid[row][col] is not None:\n",
    "        return float(grid[row][col])\n",
    "    \n",
    "    # dimension a 1-away box around the cell (well, including the cell)\n",
    "    arows = [row - 1, row, row + 1]\n",
    "    acols = [col - 1, col, col + 1]\n",
    "    \n",
    "    if row == 0:\n",
    "        arows.pop(0)\n",
    "    elif row == height - 1:\n",
    "        arows.pop()\n",
    "\n",
    "    if col == 0:\n",
    "        acols.pop(0)\n",
    "    elif col == width - 1:\n",
    "        acols.pop()\n",
    "\n",
    "    total = 0.\n",
    "    avalues = 0\n",
    "    for arow in arows:\n",
    "        for acol in acols:\n",
    "            if arow == row and acol == col:\n",
    "                continue\n",
    "            avalue = grid[arow][acol]\n",
    "            if avalue is None:\n",
    "                raise Exception(\"adjacent None at row: {}, col: {}\".format(arow, acol))\n",
    "            total += avalue\n",
    "            avalues += 1\n",
    "    \n",
    "    return total / avalues\n",
    "\n",
    "def grid_interpolate(grid):\n",
    "    height = len(grid)\n",
    "    width = len(grid[0])\n",
    "    \n",
    "    for row in range(0, height):\n",
    "        for col in range(0, width):\n",
    "            grid[row][col] = grid_cell_interpolate(grid, row, col, height, width)"
   ]
  },
  {
   "cell_type": "code",
   "execution_count": 80,
   "metadata": {},
   "outputs": [],
   "source": [
    "def grid_display(grid):\n",
    "    for line in grid:\n",
    "        print(line)"
   ]
  },
  {
   "cell_type": "code",
   "execution_count": 81,
   "metadata": {},
   "outputs": [
    {
     "name": "stdout",
     "output_type": "stream",
     "text": [
      "__Before__\n",
      "[None, 6, 9, 9, 9, 8, 2]\n",
      "[1, 6, 3, 7, 1, 5, 4]\n",
      "[8, None, 3, None, 2, 9, 2]\n",
      "[8, 2, 3, 4, 3, 4, None]\n",
      "__After__\n",
      "[4.333333333333333, 6.0, 9.0, 9.0, 9.0, 8.0, 2.0]\n",
      "[1.0, 6.0, 3.0, 7.0, 1.0, 5.0, 4.0]\n",
      "[8.0, 4.25, 3.0, 3.25, 2.0, 9.0, 2.0]\n",
      "[8.0, 2.0, 3.0, 4.0, 3.0, 4.0, 5.0]\n"
     ]
    }
   ],
   "source": [
    "grid = [[ None,  6,  9,  9,  9,  8,  2],\n",
    "       [ 1,  6,  3,  7,  1,  5,  4],\n",
    "       [ 8, None,  3, None,  2,  9,  2],\n",
    "       [ 8,  2,  3,  4,  3,  4,  None]]\n",
    "\n",
    "print(\"__Before__\")\n",
    "grid_display(grid)\n",
    "\n",
    "grid_interpolate(grid)\n",
    "\n",
    "print(\"__After__\")\n",
    "grid_display(grid)"
   ]
  },
  {
   "cell_type": "code",
   "execution_count": null,
   "metadata": {},
   "outputs": [],
   "source": []
  }
 ],
 "metadata": {
  "kernelspec": {
   "display_name": "Python 3",
   "language": "python",
   "name": "python3"
  },
  "language_info": {
   "codemirror_mode": {
    "name": "ipython",
    "version": 3
   },
   "file_extension": ".py",
   "mimetype": "text/x-python",
   "name": "python",
   "nbconvert_exporter": "python",
   "pygments_lexer": "ipython3",
   "version": "3.6.4"
  }
 },
 "nbformat": 4,
 "nbformat_minor": 2
}
