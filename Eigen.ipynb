{
 "cells": [
  {
   "cell_type": "markdown",
   "metadata": {},
   "source": [
    "## Using a Markov Process to learn numpy - eigenvectors\n",
    "\n",
    "The following explores a population flow between two populations.\n",
    "A concrete example would be people moving from one city to another,\n",
    "but could also be an infectious process, ie moving between being a\n",
    "human and zombie via bite or healing.\n",
    "\n",
    "This exploration begins as a mathematics initiate and programmer\n",
    "novice, learning or relearning calculus then linear algebra\n",
    "concepts and techniques to determine the equilibrium values for\n",
    "the population.\n",
    "\n",
    "The following articles were instrumental in this learning:\n",
    "1. https://medium.com/@andrew.chamberlain/using-eigenvectors-to-find-steady-state-population-flows-cd938f124764\n",
    "2. http://lagrange.univ-lyon1.fr/docs/numpy/1.11.0/reference/generated/numpy.linalg.eig.html\n",
    "3. https://nicolewhite.github.io/2014/06/10/steady-state-transition-matrix.html"
   ]
  },
  {
   "cell_type": "code",
   "execution_count": 209,
   "metadata": {},
   "outputs": [
    {
     "data": {
      "image/png": "[encoded data removed]",
      "text/plain": [
       "<Figure size 432x288 with 1 Axes>"
      ]
     },
     "metadata": {
      "needs_background": "light"
     },
     "output_type": "display_data"
    }
   ],
   "source": [
    "# use OOP/FP and a bit of \"intuition\" via visualization\n",
    "\n",
    "h = 500000.0\n",
    "dz = 0.05\n",
    "\n",
    "z = 500000.0\n",
    "dh = 0.20\n",
    "\n",
    "def generation_f(h, z, dz, dh):\n",
    "    z_dh = z * dh\n",
    "    h_dz = h * dz\n",
    "    return (h + z_dh - h_dz), (z + h_dz - z_dh), dz, dh\n",
    "\n",
    "class GenerationVisitor:\n",
    "    def __init__(self, h, z, dz, dh, generation_f):\n",
    "        self._h = h\n",
    "        self._z = z\n",
    "        self._dz = dz\n",
    "        self._dh = dh\n",
    "        self._generation = -1\n",
    "        self._generation_f = generation_f\n",
    "        \n",
    "    def __next__(self):\n",
    "        self._generation += 1\n",
    "        if self._generation == 0:\n",
    "            return self._h, self._z\n",
    "        self._h, self._z, self._dz, self._dh = self._generation_f(self._h, self._z, self._dz, self._dh)\n",
    "        return self._h, self._z\n",
    "    \n",
    "import matplotlib.pyplot as plt\n",
    "\n",
    "v = GenerationVisitor(h, z, dz, dh, generation_f)\n",
    "\n",
    "xs = range(0, 100)\n",
    "ys = [v.__next__() for _ in xs]\n",
    "\n",
    "plt.plot(xs, ys)\n",
    "plt.show()"
   ]
  },
  {
   "cell_type": "code",
   "execution_count": 208,
   "metadata": {},
   "outputs": [
    {
     "data": {
      "text/plain": [
       "array([800000.01490116, 200000.00372529])"
      ]
     },
     "execution_count": 208,
     "metadata": {},
     "output_type": "execute_result"
    }
   ],
   "source": [
    "# converge via dot product, each dot is a step\n",
    "# rather than use \"intuition\", use calculus,\n",
    "# identifying convergence when delta < epsilon.\n",
    "\n",
    "pop = np.array([500000.0, 500000.0])\n",
    "p = np.array([[0.95, 0.05],\n",
    "              [0.20, 0.80]])\n",
    "epm = p\n",
    "steps = 0\n",
    "for _ in range(1, 100):\n",
    "    steps += 1\n",
    "    if (epm[0] - epm[1])[0] < 0.1e-20:\n",
    "        break\n",
    "    epm = np.dot(epm, epm)\n",
    "\n",
    "ssr = epm[0]\n",
    "ssr * sum(pop)"
   ]
  },
  {
   "cell_type": "code",
   "execution_count": 301,
   "metadata": {},
   "outputs": [
    {
     "data": {
      "text/plain": [
       "array([0.0877193 +0.j, 0.38596491+0.j, 0.52631579+0.j])"
      ]
     },
     "execution_count": 301,
     "metadata": {},
     "output_type": "execute_result"
    }
   ],
   "source": [
    "# test the np procedure against a known case\n",
    "# https://nicolewhite.github.io/2014/06/10/steady-state-transition-matrix.html\n",
    "p = np.array([[0.4,0.4,0.2],\n",
    "             [0.0,0.5,0.5],\n",
    "             [0.1,0.3,0.6]])\n",
    "\n",
    "_w, v = np.linalg.eig(p.T)\n",
    "f = v.T[0]\n",
    "f / sum(f)"
   ]
  },
  {
   "cell_type": "code",
   "execution_count": 300,
   "metadata": {},
   "outputs": [
    {
     "data": {
      "text/plain": [
       "array([800000., 200000.])"
      ]
     },
     "execution_count": 300,
     "metadata": {},
     "output_type": "execute_result"
    }
   ],
   "source": [
    "import numpy as np\n",
    "\n",
    "population = np.array([500000.0, 500000.0])\n",
    "population_shift = np.array([[0.95, 0.05],\n",
    "                             [0.20, 0.80]])\n",
    "\n",
    "_eigenvalues, eigenvectors = np.linalg.eig(population_shift.T)\n",
    "f = eigenvectors.T[0]\n",
    "equilibrium = f / sum(f)\n",
    "\n",
    "pop = np.copy(population)\n",
    "pop.fill(sum(population))\n",
    "pop * equilibrium"
   ]
  }
 ],
 "metadata": {
  "kernelspec": {
   "display_name": "Python 3",
   "language": "python",
   "name": "python3"
  },
  "language_info": {
   "codemirror_mode": {
    "name": "ipython",
    "version": 3
   },
   "file_extension": ".py",
   "mimetype": "text/x-python",
   "name": "python",
   "nbconvert_exporter": "python",
   "pygments_lexer": "ipython3",
   "version": "3.6.4"
  }
 },
 "nbformat": 4,
 "nbformat_minor": 2
}
